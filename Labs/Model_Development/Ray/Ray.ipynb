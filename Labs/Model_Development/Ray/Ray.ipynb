{
 "cells": [
  {
   "cell_type": "markdown",
   "id": "0bdaba4e-2e4d-4070-8e72-f54ead87e8ca",
   "metadata": {},
   "source": [
    "### Preliminaries"
   ]
  },
  {
   "cell_type": "code",
   "execution_count": 1,
   "id": "39e742df-86fe-41c2-8d01-8f8d7a9ce703",
   "metadata": {
    "tags": []
   },
   "outputs": [],
   "source": [
    "import time\n",
    "from operator import itemgetter\n",
    "\n",
    "import pandas as pd\n",
    "from sklearn.datasets import fetch_california_housing\n",
    "from sklearn.ensemble import RandomForestRegressor\n",
    "from sklearn.metrics import mean_squared_error\n",
    "from sklearn.model_selection import train_test_split"
   ]
  },
  {
   "cell_type": "markdown",
   "id": "4d3283df-b3d3-4319-9488-94a486b2fb22",
   "metadata": {},
   "source": [
    "### Prepare dataset\n"
   ]
  },
  {
   "cell_type": "code",
   "execution_count": 2,
   "id": "a1864521-eb2d-4df8-906a-ea855e129b4c",
   "metadata": {
    "tags": []
   },
   "outputs": [
    {
     "data": {
      "text/html": [
       "<div>\n",
       "<style scoped>\n",
       "    .dataframe tbody tr th:only-of-type {\n",
       "        vertical-align: middle;\n",
       "    }\n",
       "\n",
       "    .dataframe tbody tr th {\n",
       "        vertical-align: top;\n",
       "    }\n",
       "\n",
       "    .dataframe thead th {\n",
       "        text-align: right;\n",
       "    }\n",
       "</style>\n",
       "<table border=\"1\" class=\"dataframe\">\n",
       "  <thead>\n",
       "    <tr style=\"text-align: right;\">\n",
       "      <th></th>\n",
       "      <th>MedInc</th>\n",
       "      <th>HouseAge</th>\n",
       "      <th>AveRooms</th>\n",
       "      <th>AveBedrms</th>\n",
       "      <th>Population</th>\n",
       "      <th>AveOccup</th>\n",
       "      <th>Latitude</th>\n",
       "      <th>Longitude</th>\n",
       "    </tr>\n",
       "  </thead>\n",
       "  <tbody>\n",
       "    <tr>\n",
       "      <th>0</th>\n",
       "      <td>8.3252</td>\n",
       "      <td>41.0</td>\n",
       "      <td>6.984127</td>\n",
       "      <td>1.023810</td>\n",
       "      <td>322.0</td>\n",
       "      <td>2.555556</td>\n",
       "      <td>37.88</td>\n",
       "      <td>-122.23</td>\n",
       "    </tr>\n",
       "    <tr>\n",
       "      <th>1</th>\n",
       "      <td>8.3014</td>\n",
       "      <td>21.0</td>\n",
       "      <td>6.238137</td>\n",
       "      <td>0.971880</td>\n",
       "      <td>2401.0</td>\n",
       "      <td>2.109842</td>\n",
       "      <td>37.86</td>\n",
       "      <td>-122.22</td>\n",
       "    </tr>\n",
       "    <tr>\n",
       "      <th>2</th>\n",
       "      <td>7.2574</td>\n",
       "      <td>52.0</td>\n",
       "      <td>8.288136</td>\n",
       "      <td>1.073446</td>\n",
       "      <td>496.0</td>\n",
       "      <td>2.802260</td>\n",
       "      <td>37.85</td>\n",
       "      <td>-122.24</td>\n",
       "    </tr>\n",
       "    <tr>\n",
       "      <th>3</th>\n",
       "      <td>5.6431</td>\n",
       "      <td>52.0</td>\n",
       "      <td>5.817352</td>\n",
       "      <td>1.073059</td>\n",
       "      <td>558.0</td>\n",
       "      <td>2.547945</td>\n",
       "      <td>37.85</td>\n",
       "      <td>-122.25</td>\n",
       "    </tr>\n",
       "    <tr>\n",
       "      <th>4</th>\n",
       "      <td>3.8462</td>\n",
       "      <td>52.0</td>\n",
       "      <td>6.281853</td>\n",
       "      <td>1.081081</td>\n",
       "      <td>565.0</td>\n",
       "      <td>2.181467</td>\n",
       "      <td>37.85</td>\n",
       "      <td>-122.25</td>\n",
       "    </tr>\n",
       "  </tbody>\n",
       "</table>\n",
       "</div>"
      ],
      "text/plain": [
       "   MedInc  HouseAge  AveRooms  AveBedrms  Population  AveOccup  Latitude  \\\n",
       "0  8.3252      41.0  6.984127   1.023810       322.0  2.555556     37.88   \n",
       "1  8.3014      21.0  6.238137   0.971880      2401.0  2.109842     37.86   \n",
       "2  7.2574      52.0  8.288136   1.073446       496.0  2.802260     37.85   \n",
       "3  5.6431      52.0  5.817352   1.073059       558.0  2.547945     37.85   \n",
       "4  3.8462      52.0  6.281853   1.081081       565.0  2.181467     37.85   \n",
       "\n",
       "   Longitude  \n",
       "0    -122.23  \n",
       "1    -122.22  \n",
       "2    -122.24  \n",
       "3    -122.25  \n",
       "4    -122.25  "
      ]
     },
     "execution_count": 2,
     "metadata": {},
     "output_type": "execute_result"
    }
   ],
   "source": [
    "X, y = fetch_california_housing(return_X_y=True, as_frame=True)\n",
    "X_train, X_test, y_train, y_test = train_test_split(\n",
    "    X, y, test_size=0.2, random_state=201\n",
    ")\n",
    "X.head(n=5)"
   ]
  },
  {
   "cell_type": "code",
   "execution_count": 3,
   "id": "bb14d7ae-b6fa-4b1b-b768-7c8cf776521f",
   "metadata": {
    "tags": []
   },
   "outputs": [],
   "source": [
    "# You will use NUM_MODELS as a benchmark to compare performance\n",
    "# across sequential and parallel implementations.\n",
    "\n",
    "NUM_MODELS = 20"
   ]
  },
  {
   "cell_type": "code",
   "execution_count": 4,
   "id": "2c2097f4-1012-42f9-9b94-791238a9189a",
   "metadata": {
    "tags": []
   },
   "outputs": [],
   "source": [
    "def train_and_score_model(\n",
    "    train_set: pd.DataFrame,\n",
    "    test_set: pd.DataFrame,\n",
    "    train_labels: pd.Series,\n",
    "    test_labels: pd.Series,\n",
    "    n_estimators: int,\n",
    ") -> tuple[int, float]:\n",
    "    start_time = time.time()  # measure wall time for single model training\n",
    "\n",
    "    model = RandomForestRegressor(n_estimators=n_estimators, random_state=201)\n",
    "    model.fit(train_set, train_labels)\n",
    "    y_pred = model.predict(test_set)\n",
    "    score = mean_squared_error(test_labels, y_pred)\n",
    "\n",
    "    time_delta = time.time() - start_time\n",
    "    print(\n",
    "        f\"n_estimators={n_estimators}, mse={score:.4f}, took: {time_delta:.2f} seconds\"\n",
    "    )\n",
    "\n",
    "    return n_estimators, score"
   ]
  },
  {
   "cell_type": "code",
   "execution_count": 5,
   "id": "c24c87fd-31dc-4822-895b-10a34c27135f",
   "metadata": {
    "tags": []
   },
   "outputs": [],
   "source": [
    "def run_sequential(n_models: int) -> list[tuple[int, float]]:\n",
    "    return [\n",
    "        train_and_score_model(\n",
    "            train_set=X_train,\n",
    "            test_set=X_test,\n",
    "            train_labels=y_train,\n",
    "            test_labels=y_test,\n",
    "            n_estimators=8 + 4 * j,\n",
    "        )\n",
    "        for j in range(n_models)\n",
    "    ]"
   ]
  },
  {
   "cell_type": "markdown",
   "id": "c8fa6eae-a4da-4fd5-8e56-94bc4e72630c",
   "metadata": {},
   "source": [
    "This function trains n_models sequentially for an increasing number of n_estimators (increasing by 4 for each model, e.g. 8, 12, 16, 20, ...).\n",
    "\n",
    "run_sequential returns a list of tuples:\n",
    "\n",
    "[(n_estimators, mse_score), (n_estimators, mse_score), ...]\n",
    "For example:\n",
    "\n",
    "[(8, 0.2983), (12, 0.2826), (16, 0.2761), (24, 0.2694)]"
   ]
  },
  {
   "cell_type": "code",
   "execution_count": 6,
   "id": "2d623137-c50d-40a0-8043-922c4cd57f6a",
   "metadata": {},
   "outputs": [
    {
     "name": "stdout",
     "output_type": "stream",
     "text": [
      "n_estimators=8, mse=0.2983, took: 1.07 seconds\n",
      "n_estimators=12, mse=0.2826, took: 1.58 seconds\n",
      "n_estimators=16, mse=0.2761, took: 2.13 seconds\n",
      "n_estimators=20, mse=0.2716, took: 2.96 seconds\n",
      "n_estimators=24, mse=0.2694, took: 3.22 seconds\n",
      "n_estimators=28, mse=0.2686, took: 3.79 seconds\n",
      "n_estimators=32, mse=0.2662, took: 4.39 seconds\n",
      "n_estimators=36, mse=0.2663, took: 4.68 seconds\n",
      "n_estimators=40, mse=0.2635, took: 5.93 seconds\n",
      "n_estimators=44, mse=0.2622, took: 7.33 seconds\n",
      "n_estimators=48, mse=0.2616, took: 6.31 seconds\n",
      "n_estimators=52, mse=0.2609, took: 6.85 seconds\n",
      "n_estimators=56, mse=0.2615, took: 8.01 seconds\n",
      "n_estimators=60, mse=0.2608, took: 8.46 seconds\n",
      "n_estimators=64, mse=0.2614, took: 9.32 seconds\n",
      "n_estimators=68, mse=0.2616, took: 10.27 seconds\n",
      "n_estimators=72, mse=0.2617, took: 10.41 seconds\n",
      "n_estimators=76, mse=0.2614, took: 10.00 seconds\n",
      "n_estimators=80, mse=0.2607, took: 10.62 seconds\n",
      "n_estimators=84, mse=0.2601, took: 11.18 seconds\n",
      "CPU times: user 2min 6s, sys: 1.99 s, total: 2min 8s\n",
      "Wall time: 2min 8s\n"
     ]
    }
   ],
   "source": [
    "%%time\n",
    "\n",
    "mse_scores = run_sequential(n_models=NUM_MODELS)"
   ]
  },
  {
   "cell_type": "code",
   "execution_count": 7,
   "id": "454a594f-5d32-4e30-981c-349197ea5338",
   "metadata": {
    "tags": []
   },
   "outputs": [],
   "source": [
    "### Analyze results"
   ]
  },
  {
   "cell_type": "code",
   "execution_count": 8,
   "id": "715d5356-6289-4e10-89ed-08b478c706ee",
   "metadata": {
    "tags": []
   },
   "outputs": [
    {
     "name": "stdout",
     "output_type": "stream",
     "text": [
      "Best model: mse=0.2601, n_estimators=84\n"
     ]
    }
   ],
   "source": [
    "best = min(mse_scores, key=itemgetter(1))\n",
    "print(f\"Best model: mse={best[1]:.4f}, n_estimators={best[0]}\")"
   ]
  },
  {
   "cell_type": "markdown",
   "id": "84e9597a-a9fa-4323-b1f7-db3e8735f180",
   "metadata": {},
   "source": [
    "Looking at the results of training, make a note on how long training NUM_MODELS sequentially took. Continue on to the next section to learn about how to improve runtime by distributing this task."
   ]
  },
  {
   "cell_type": "markdown",
   "id": "b52112ec-4bbd-47fc-a492-54560673226a",
   "metadata": {},
   "source": [
    "### Parallel implementation\n",
    "In contrast to the previous approach, you will now utilize all available resources to train these models in parallel. Ray will automatically detect the number of cores on your computer or the amount of resources in a cluster to distribute each defined task.\n",
    "\n",
    "The diagram below offers an intuition for how tasks are assigned and executed in a parallel approach. You will notice that this introduces a scheduler which is responsible for managing incoming requests, assigning nodes, and detecting available resources."
   ]
  },
  {
   "cell_type": "code",
   "execution_count": 9,
   "id": "50195c85-14f2-4f63-a820-c9e45e686608",
   "metadata": {},
   "outputs": [
    {
     "name": "stdout",
     "output_type": "stream",
     "text": [
      "\u001b[33mWARNING: Ignoring invalid distribution -ensorflow (/home/ramin/Documents/MLOps/.venv/lib/python3.10/site-packages)\u001b[0m\u001b[33m\n",
      "\u001b[0mRequirement already satisfied: ray in /home/ramin/Documents/MLOps/.venv/lib/python3.10/site-packages (2.38.0)\n",
      "Requirement already satisfied: click>=7.0 in /home/ramin/Documents/MLOps/.venv/lib/python3.10/site-packages (from ray) (8.1.7)\n",
      "Requirement already satisfied: filelock in /home/ramin/Documents/MLOps/.venv/lib/python3.10/site-packages (from ray) (3.16.1)\n",
      "Requirement already satisfied: jsonschema in /home/ramin/Documents/MLOps/.venv/lib/python3.10/site-packages (from ray) (4.23.0)\n",
      "Requirement already satisfied: msgpack<2.0.0,>=1.0.0 in /home/ramin/Documents/MLOps/.venv/lib/python3.10/site-packages (from ray) (1.1.0)\n",
      "Requirement already satisfied: packaging in /home/ramin/Documents/MLOps/.venv/lib/python3.10/site-packages (from ray) (24.1)\n",
      "Requirement already satisfied: protobuf!=3.19.5,>=3.15.3 in /home/ramin/Documents/MLOps/.venv/lib/python3.10/site-packages (from ray) (3.20.3)\n",
      "Requirement already satisfied: pyyaml in /home/ramin/Documents/MLOps/.venv/lib/python3.10/site-packages (from ray) (6.0.2)\n",
      "Requirement already satisfied: aiosignal in /home/ramin/Documents/MLOps/.venv/lib/python3.10/site-packages (from ray) (1.3.1)\n",
      "Requirement already satisfied: frozenlist in /home/ramin/Documents/MLOps/.venv/lib/python3.10/site-packages (from ray) (1.5.0)\n",
      "Requirement already satisfied: requests in /home/ramin/Documents/MLOps/.venv/lib/python3.10/site-packages (from ray) (2.32.3)\n",
      "Requirement already satisfied: attrs>=22.2.0 in /home/ramin/Documents/MLOps/.venv/lib/python3.10/site-packages (from jsonschema->ray) (23.2.0)\n",
      "Requirement already satisfied: jsonschema-specifications>=2023.03.6 in /home/ramin/Documents/MLOps/.venv/lib/python3.10/site-packages (from jsonschema->ray) (2024.10.1)\n",
      "Requirement already satisfied: referencing>=0.28.4 in /home/ramin/Documents/MLOps/.venv/lib/python3.10/site-packages (from jsonschema->ray) (0.35.1)\n",
      "Requirement already satisfied: rpds-py>=0.7.1 in /home/ramin/Documents/MLOps/.venv/lib/python3.10/site-packages (from jsonschema->ray) (0.20.0)\n",
      "Requirement already satisfied: charset-normalizer<4,>=2 in /home/ramin/Documents/MLOps/.venv/lib/python3.10/site-packages (from requests->ray) (3.4.0)\n",
      "Requirement already satisfied: idna<4,>=2.5 in /home/ramin/Documents/MLOps/.venv/lib/python3.10/site-packages (from requests->ray) (3.10)\n",
      "Requirement already satisfied: urllib3<3,>=1.21.1 in /home/ramin/Documents/MLOps/.venv/lib/python3.10/site-packages (from requests->ray) (2.2.3)\n",
      "Requirement already satisfied: certifi>=2017.4.17 in /home/ramin/Documents/MLOps/.venv/lib/python3.10/site-packages (from requests->ray) (2024.8.30)\n",
      "\u001b[33mWARNING: Ignoring invalid distribution -ensorflow (/home/ramin/Documents/MLOps/.venv/lib/python3.10/site-packages)\u001b[0m\u001b[33m\n",
      "\u001b[0m\u001b[33mWARNING: Ignoring invalid distribution -ensorflow (/home/ramin/Documents/MLOps/.venv/lib/python3.10/site-packages)\u001b[0m\u001b[33m\n",
      "\u001b[0m\n",
      "\u001b[1m[\u001b[0m\u001b[34;49mnotice\u001b[0m\u001b[1;39;49m]\u001b[0m\u001b[39;49m A new release of pip is available: \u001b[0m\u001b[31;49m24.2\u001b[0m\u001b[39;49m -> \u001b[0m\u001b[32;49m24.3.1\u001b[0m\n",
      "\u001b[1m[\u001b[0m\u001b[34;49mnotice\u001b[0m\u001b[1;39;49m]\u001b[0m\u001b[39;49m To update, run: \u001b[0m\u001b[32;49mpip install --upgrade pip\u001b[0m\n"
     ]
    }
   ],
   "source": [
    "!pip install ray"
   ]
  },
  {
   "cell_type": "code",
   "execution_count": 10,
   "id": "946fae9a-de6e-4d61-8a30-e27fc0f407f6",
   "metadata": {
    "tags": []
   },
   "outputs": [
    {
     "name": "stderr",
     "output_type": "stream",
     "text": [
      "2024-11-13 11:38:42,062\tINFO util.py:154 -- Outdated packages:\n",
      "  ipywidgets==7.8.4 found, needs ipywidgets>=8\n",
      "Run `pip install -U ipywidgets`, then restart the notebook server for rich notebook output.\n",
      "2024-11-13 11:38:44,316\tINFO worker.py:1816 -- Started a local Ray instance.\n"
     ]
    },
    {
     "data": {
      "text/html": [
       "<div class=\"lm-Widget p-Widget lm-Panel p-Panel jp-Cell-outputWrapper\">\n",
       "    <div style=\"margin-left: 50px;display: flex;flex-direction: row;align-items: center\">\n",
       "        <div class=\"jp-RenderedHTMLCommon\" style=\"display: flex; flex-direction: row;\">\n",
       "  <svg viewBox=\"0 0 567 224\" fill=\"none\" xmlns=\"http://www.w3.org/2000/svg\" style=\"height: 3em;\">\n",
       "    <g clip-path=\"url(#clip0_4338_178347)\">\n",
       "        <path d=\"M341.29 165.561H355.29L330.13 129.051C345.63 123.991 354.21 112.051 354.21 94.2307C354.21 71.3707 338.72 58.1807 311.88 58.1807H271V165.561H283.27V131.661H311.8C314.25 131.661 316.71 131.501 319.01 131.351L341.25 165.561H341.29ZM283.29 119.851V70.0007H311.82C331.3 70.0007 342.34 78.2907 342.34 94.5507C342.34 111.271 331.34 119.861 311.82 119.861L283.29 119.851ZM451.4 138.411L463.4 165.561H476.74L428.74 58.1807H416L367.83 165.561H380.83L392.83 138.411H451.4ZM446.19 126.601H398L422 72.1407L446.24 126.601H446.19ZM526.11 128.741L566.91 58.1807H554.35L519.99 114.181L485.17 58.1807H472.44L514.01 129.181V165.541H526.13V128.741H526.11Z\" fill=\"var(--jp-ui-font-color0)\"/>\n",
       "        <path d=\"M82.35 104.44C84.0187 97.8827 87.8248 92.0678 93.1671 87.9146C98.5094 83.7614 105.083 81.5067 111.85 81.5067C118.617 81.5067 125.191 83.7614 130.533 87.9146C135.875 92.0678 139.681 97.8827 141.35 104.44H163.75C164.476 101.562 165.622 98.8057 167.15 96.2605L127.45 56.5605C121.071 60.3522 113.526 61.6823 106.235 60.3005C98.9443 58.9187 92.4094 54.9203 87.8602 49.0574C83.3109 43.1946 81.0609 35.8714 81.5332 28.4656C82.0056 21.0599 85.1679 14.0819 90.4252 8.8446C95.6824 3.60726 102.672 0.471508 110.08 0.0272655C117.487 -0.416977 124.802 1.86091 130.647 6.4324C136.493 11.0039 140.467 17.5539 141.821 24.8501C143.175 32.1463 141.816 39.6859 138 46.0505L177.69 85.7505C182.31 82.9877 187.58 81.4995 192.962 81.4375C198.345 81.3755 203.648 82.742 208.33 85.3976C213.012 88.0532 216.907 91.9029 219.616 96.5544C222.326 101.206 223.753 106.492 223.753 111.875C223.753 117.258 222.326 122.545 219.616 127.197C216.907 131.848 213.012 135.698 208.33 138.353C203.648 141.009 198.345 142.375 192.962 142.313C187.58 142.251 182.31 140.763 177.69 138L138 177.7C141.808 184.071 143.155 191.614 141.79 198.91C140.424 206.205 136.44 212.75 130.585 217.313C124.731 221.875 117.412 224.141 110.004 223.683C102.596 223.226 95.6103 220.077 90.3621 214.828C85.1139 209.58 81.9647 202.595 81.5072 195.187C81.0497 187.779 83.3154 180.459 87.878 174.605C92.4405 168.751 98.9853 164.766 106.281 163.401C113.576 162.035 121.119 163.383 127.49 167.19L167.19 127.49C165.664 124.941 164.518 122.182 163.79 119.3H141.39C139.721 125.858 135.915 131.673 130.573 135.826C125.231 139.98 118.657 142.234 111.89 142.234C105.123 142.234 98.5494 139.98 93.2071 135.826C87.8648 131.673 84.0587 125.858 82.39 119.3H60C58.1878 126.495 53.8086 132.78 47.6863 136.971C41.5641 141.163 34.1211 142.972 26.7579 142.059C19.3947 141.146 12.6191 137.574 7.70605 132.014C2.79302 126.454 0.0813599 119.29 0.0813599 111.87C0.0813599 104.451 2.79302 97.2871 7.70605 91.7272C12.6191 86.1673 19.3947 82.5947 26.7579 81.6817C34.1211 80.7686 41.5641 82.5781 47.6863 86.7696C53.8086 90.9611 58.1878 97.2456 60 104.44H82.35ZM100.86 204.32C103.407 206.868 106.759 208.453 110.345 208.806C113.93 209.159 117.527 208.258 120.522 206.256C123.517 204.254 125.725 201.276 126.771 197.828C127.816 194.38 127.633 190.677 126.253 187.349C124.874 184.021 122.383 181.274 119.205 179.577C116.027 177.88 112.359 177.337 108.826 178.042C105.293 178.746 102.113 180.654 99.8291 183.44C97.5451 186.226 96.2979 189.718 96.3 193.32C96.2985 195.364 96.7006 197.388 97.4831 199.275C98.2656 201.163 99.4132 202.877 100.86 204.32ZM204.32 122.88C206.868 120.333 208.453 116.981 208.806 113.396C209.159 109.811 208.258 106.214 206.256 103.219C204.254 100.223 201.275 98.0151 197.827 96.97C194.38 95.9249 190.676 96.1077 187.348 97.4873C184.02 98.8669 181.274 101.358 179.577 104.536C177.879 107.714 177.337 111.382 178.041 114.915C178.746 118.448 180.653 121.627 183.439 123.911C186.226 126.195 189.717 127.443 193.32 127.44C195.364 127.443 197.388 127.042 199.275 126.259C201.163 125.476 202.878 124.328 204.32 122.88ZM122.88 19.4205C120.333 16.8729 116.981 15.2876 113.395 14.9347C109.81 14.5817 106.213 15.483 103.218 17.4849C100.223 19.4868 98.0146 22.4654 96.9696 25.9131C95.9245 29.3608 96.1073 33.0642 97.4869 36.3922C98.8665 39.7202 101.358 42.4668 104.535 44.1639C107.713 45.861 111.381 46.4036 114.914 45.6992C118.447 44.9949 121.627 43.0871 123.911 40.301C126.195 37.515 127.442 34.0231 127.44 30.4205C127.44 28.3772 127.038 26.3539 126.255 24.4664C125.473 22.5788 124.326 20.8642 122.88 19.4205ZM19.42 100.86C16.8725 103.408 15.2872 106.76 14.9342 110.345C14.5813 113.93 15.4826 117.527 17.4844 120.522C19.4863 123.518 22.4649 125.726 25.9127 126.771C29.3604 127.816 33.0638 127.633 36.3918 126.254C39.7198 124.874 42.4664 122.383 44.1635 119.205C45.8606 116.027 46.4032 112.359 45.6988 108.826C44.9944 105.293 43.0866 102.114 40.3006 99.8296C37.5145 97.5455 34.0227 96.2983 30.42 96.3005C26.2938 96.3018 22.337 97.9421 19.42 100.86ZM100.86 100.86C98.3125 103.408 96.7272 106.76 96.3742 110.345C96.0213 113.93 96.9226 117.527 98.9244 120.522C100.926 123.518 103.905 125.726 107.353 126.771C110.8 127.816 114.504 127.633 117.832 126.254C121.16 124.874 123.906 122.383 125.604 119.205C127.301 116.027 127.843 112.359 127.139 108.826C126.434 105.293 124.527 102.114 121.741 99.8296C118.955 97.5455 115.463 96.2983 111.86 96.3005C109.817 96.299 107.793 96.701 105.905 97.4835C104.018 98.2661 102.303 99.4136 100.86 100.86Z\" fill=\"#00AEEF\"/>\n",
       "    </g>\n",
       "    <defs>\n",
       "        <clipPath id=\"clip0_4338_178347\">\n",
       "            <rect width=\"566.93\" height=\"223.75\" fill=\"white\"/>\n",
       "        </clipPath>\n",
       "    </defs>\n",
       "  </svg>\n",
       "</div>\n",
       "\n",
       "        <table class=\"jp-RenderedHTMLCommon\" style=\"border-collapse: collapse;color: var(--jp-ui-font-color1);font-size: var(--jp-ui-font-size1);\">\n",
       "    <tr>\n",
       "        <td style=\"text-align: left\"><b>Python version:</b></td>\n",
       "        <td style=\"text-align: left\"><b>3.10.12</b></td>\n",
       "    </tr>\n",
       "    <tr>\n",
       "        <td style=\"text-align: left\"><b>Ray version:</b></td>\n",
       "        <td style=\"text-align: left\"><b>2.38.0</b></td>\n",
       "    </tr>\n",
       "    \n",
       "</table>\n",
       "\n",
       "    </div>\n",
       "</div>\n"
      ],
      "text/plain": [
       "RayContext(dashboard_url='', python_version='3.10.12', ray_version='2.38.0', ray_commit='385ee466260ef3cd218d5e372aef5d39338b7b94')"
      ]
     },
     "execution_count": 10,
     "metadata": {},
     "output_type": "execute_result"
    }
   ],
   "source": [
    "import ray\n",
    "\n",
    "if ray.is_initialized:\n",
    "    ray.shutdown()\n",
    "\n",
    "ray.init()"
   ]
  },
  {
   "cell_type": "markdown",
   "id": "fc1af12d-f937-41ce-8f16-bcfb2ba1e04e",
   "metadata": {},
   "source": [
    "Begin by running ray.init() to start a fresh Ray cluster and take a look at some useful information:\n",
    "\n",
    "Python version\n",
    "Ray version\n",
    "Link to Ray Dashboard: an observability tool that provides insight into what Ray is doing via helpful metrics and charts"
   ]
  },
  {
   "cell_type": "markdown",
   "id": "748a0a69-bf4d-443a-b116-0d51edc83253",
   "metadata": {},
   "source": [
    "Workers use ray.put() to place objects and use ray.get() to retrieve them from each node's object store. These object stores form the shared distributed memory that makes objects available across a Ray cluster."
   ]
  },
  {
   "cell_type": "markdown",
   "id": "7a540cd0-5013-4eed-a1c3-1ea7a9467e07",
   "metadata": {},
   "source": [
    "In a distributed system, object references are pointers to objects in memory. Object references can be used to access objects that are stored on different machines, allowing them to communicate with each other and share data."
   ]
  },
  {
   "cell_type": "code",
   "execution_count": 11,
   "id": "ff30d3d6-f9d5-4cb3-84d1-557eef1f3f6b",
   "metadata": {
    "tags": []
   },
   "outputs": [],
   "source": [
    "X_train_ref = ray.put(X_train)\n",
    "X_test_ref = ray.put(X_test)\n",
    "y_train_ref = ray.put(y_train)\n",
    "y_test_ref = ray.put(y_test)"
   ]
  },
  {
   "cell_type": "markdown",
   "id": "e7ec7b9b-7ca2-497f-9eb2-27e7bb586db0",
   "metadata": {},
   "source": [
    "By placing the training and testing data into Ray's object store, these objects are now available to all remote tasks and actors in the cluster.\n",
    "\n",
    "Coding Exercise\n",
    "\n",
    "To practice working with object references, use the cell below to:\n",
    "\n",
    "Print what X_train_ref looks like.\n",
    "Retrieve X_train by using ray.get() on the object reference.\n",
    "An example Object Reference looks like this:"
   ]
  },
  {
   "cell_type": "code",
   "execution_count": 12,
   "id": "b357c728-05c7-4232-a5a6-9b10312db8d5",
   "metadata": {
    "tags": []
   },
   "outputs": [
    {
     "name": "stdout",
     "output_type": "stream",
     "text": [
      "ObjectRef(00ffffffffffffffffffffffffffffffffffffff0100000001e1f505)\n"
     ]
    },
    {
     "data": {
      "text/html": [
       "<div>\n",
       "<style scoped>\n",
       "    .dataframe tbody tr th:only-of-type {\n",
       "        vertical-align: middle;\n",
       "    }\n",
       "\n",
       "    .dataframe tbody tr th {\n",
       "        vertical-align: top;\n",
       "    }\n",
       "\n",
       "    .dataframe thead th {\n",
       "        text-align: right;\n",
       "    }\n",
       "</style>\n",
       "<table border=\"1\" class=\"dataframe\">\n",
       "  <thead>\n",
       "    <tr style=\"text-align: right;\">\n",
       "      <th></th>\n",
       "      <th>MedInc</th>\n",
       "      <th>HouseAge</th>\n",
       "      <th>AveRooms</th>\n",
       "      <th>AveBedrms</th>\n",
       "      <th>Population</th>\n",
       "      <th>AveOccup</th>\n",
       "      <th>Latitude</th>\n",
       "      <th>Longitude</th>\n",
       "    </tr>\n",
       "  </thead>\n",
       "  <tbody>\n",
       "    <tr>\n",
       "      <th>19262</th>\n",
       "      <td>3.8750</td>\n",
       "      <td>20.0</td>\n",
       "      <td>5.838000</td>\n",
       "      <td>1.016000</td>\n",
       "      <td>1711.0</td>\n",
       "      <td>3.422000</td>\n",
       "      <td>38.44</td>\n",
       "      <td>-122.73</td>\n",
       "    </tr>\n",
       "    <tr>\n",
       "      <th>4083</th>\n",
       "      <td>4.3036</td>\n",
       "      <td>36.0</td>\n",
       "      <td>5.065630</td>\n",
       "      <td>1.069085</td>\n",
       "      <td>1115.0</td>\n",
       "      <td>1.925734</td>\n",
       "      <td>34.15</td>\n",
       "      <td>-118.38</td>\n",
       "    </tr>\n",
       "    <tr>\n",
       "      <th>19500</th>\n",
       "      <td>3.1857</td>\n",
       "      <td>24.0</td>\n",
       "      <td>4.902494</td>\n",
       "      <td>1.040816</td>\n",
       "      <td>1468.0</td>\n",
       "      <td>3.328798</td>\n",
       "      <td>37.67</td>\n",
       "      <td>-121.03</td>\n",
       "    </tr>\n",
       "    <tr>\n",
       "      <th>9062</th>\n",
       "      <td>3.2500</td>\n",
       "      <td>32.0</td>\n",
       "      <td>5.220884</td>\n",
       "      <td>0.939759</td>\n",
       "      <td>712.0</td>\n",
       "      <td>2.859438</td>\n",
       "      <td>34.69</td>\n",
       "      <td>-118.15</td>\n",
       "    </tr>\n",
       "    <tr>\n",
       "      <th>1196</th>\n",
       "      <td>2.6607</td>\n",
       "      <td>22.0</td>\n",
       "      <td>6.508021</td>\n",
       "      <td>1.197861</td>\n",
       "      <td>537.0</td>\n",
       "      <td>2.871658</td>\n",
       "      <td>39.34</td>\n",
       "      <td>-121.67</td>\n",
       "    </tr>\n",
       "    <tr>\n",
       "      <th>...</th>\n",
       "      <td>...</td>\n",
       "      <td>...</td>\n",
       "      <td>...</td>\n",
       "      <td>...</td>\n",
       "      <td>...</td>\n",
       "      <td>...</td>\n",
       "      <td>...</td>\n",
       "      <td>...</td>\n",
       "    </tr>\n",
       "    <tr>\n",
       "      <th>9082</th>\n",
       "      <td>4.1667</td>\n",
       "      <td>12.0</td>\n",
       "      <td>6.741713</td>\n",
       "      <td>1.109116</td>\n",
       "      <td>2188.0</td>\n",
       "      <td>3.022099</td>\n",
       "      <td>34.69</td>\n",
       "      <td>-118.17</td>\n",
       "    </tr>\n",
       "    <tr>\n",
       "      <th>1891</th>\n",
       "      <td>3.3295</td>\n",
       "      <td>17.0</td>\n",
       "      <td>6.144444</td>\n",
       "      <td>1.150000</td>\n",
       "      <td>466.0</td>\n",
       "      <td>2.588889</td>\n",
       "      <td>38.92</td>\n",
       "      <td>-120.00</td>\n",
       "    </tr>\n",
       "    <tr>\n",
       "      <th>501</th>\n",
       "      <td>2.2841</td>\n",
       "      <td>52.0</td>\n",
       "      <td>4.350649</td>\n",
       "      <td>1.077922</td>\n",
       "      <td>152.0</td>\n",
       "      <td>1.974026</td>\n",
       "      <td>37.85</td>\n",
       "      <td>-122.27</td>\n",
       "    </tr>\n",
       "    <tr>\n",
       "      <th>7680</th>\n",
       "      <td>4.0774</td>\n",
       "      <td>35.0</td>\n",
       "      <td>5.225389</td>\n",
       "      <td>0.992228</td>\n",
       "      <td>1388.0</td>\n",
       "      <td>3.595855</td>\n",
       "      <td>33.92</td>\n",
       "      <td>-118.10</td>\n",
       "    </tr>\n",
       "    <tr>\n",
       "      <th>17961</th>\n",
       "      <td>6.4095</td>\n",
       "      <td>28.0</td>\n",
       "      <td>5.800604</td>\n",
       "      <td>0.950151</td>\n",
       "      <td>1883.0</td>\n",
       "      <td>2.844411</td>\n",
       "      <td>37.31</td>\n",
       "      <td>-121.98</td>\n",
       "    </tr>\n",
       "  </tbody>\n",
       "</table>\n",
       "<p>16512 rows × 8 columns</p>\n",
       "</div>"
      ],
      "text/plain": [
       "       MedInc  HouseAge  AveRooms  AveBedrms  Population  AveOccup  Latitude  \\\n",
       "19262  3.8750      20.0  5.838000   1.016000      1711.0  3.422000     38.44   \n",
       "4083   4.3036      36.0  5.065630   1.069085      1115.0  1.925734     34.15   \n",
       "19500  3.1857      24.0  4.902494   1.040816      1468.0  3.328798     37.67   \n",
       "9062   3.2500      32.0  5.220884   0.939759       712.0  2.859438     34.69   \n",
       "1196   2.6607      22.0  6.508021   1.197861       537.0  2.871658     39.34   \n",
       "...       ...       ...       ...        ...         ...       ...       ...   \n",
       "9082   4.1667      12.0  6.741713   1.109116      2188.0  3.022099     34.69   \n",
       "1891   3.3295      17.0  6.144444   1.150000       466.0  2.588889     38.92   \n",
       "501    2.2841      52.0  4.350649   1.077922       152.0  1.974026     37.85   \n",
       "7680   4.0774      35.0  5.225389   0.992228      1388.0  3.595855     33.92   \n",
       "17961  6.4095      28.0  5.800604   0.950151      1883.0  2.844411     37.31   \n",
       "\n",
       "       Longitude  \n",
       "19262    -122.73  \n",
       "4083     -118.38  \n",
       "19500    -121.03  \n",
       "9062     -118.15  \n",
       "1196     -121.67  \n",
       "...          ...  \n",
       "9082     -118.17  \n",
       "1891     -120.00  \n",
       "501      -122.27  \n",
       "7680     -118.10  \n",
       "17961    -121.98  \n",
       "\n",
       "[16512 rows x 8 columns]"
      ]
     },
     "execution_count": 12,
     "metadata": {},
     "output_type": "execute_result"
    }
   ],
   "source": [
    "### SAMPLE IMPLEMENTATION ###\n",
    "\n",
    "# print the object reference\n",
    "print(X_train_ref)\n",
    "\n",
    "# inspect the in-memory object\n",
    "ray.get(X_train_ref)"
   ]
  },
  {
   "cell_type": "markdown",
   "id": "e58b31c4-9352-4886-bd0e-610daec38a62",
   "metadata": {},
   "source": [
    "### Implement function to train and score model"
   ]
  },
  {
   "cell_type": "code",
   "execution_count": 13,
   "id": "8d85b3e6-3f56-4119-b6a7-50e7ce1cf94f",
   "metadata": {
    "tags": []
   },
   "outputs": [],
   "source": [
    "@ray.remote\n",
    "def train_and_score_model(\n",
    "    train_set_ref: pd.DataFrame,\n",
    "    test_set_ref: pd.DataFrame,\n",
    "    train_labels_ref: pd.Series,\n",
    "    test_labels_ref: pd.Series,\n",
    "    n_estimators: int,\n",
    ") -> tuple[int, float]:\n",
    "    start_time = time.time()  # measure wall time for single model training\n",
    "\n",
    "    model = RandomForestRegressor(n_estimators=n_estimators, random_state=201)\n",
    "    model.fit(train_set_ref, train_labels_ref)\n",
    "    y_pred = model.predict(test_set_ref)\n",
    "    score = mean_squared_error(test_labels_ref, y_pred)\n",
    "\n",
    "    time_delta = time.time() - start_time\n",
    "    print(\n",
    "        f\"n_estimators={n_estimators}, mse={score:.4f}, took: {time_delta:.2f} seconds\"\n",
    "    )\n",
    "\n",
    "    return n_estimators, score"
   ]
  },
  {
   "cell_type": "markdown",
   "id": "c564a09b-cb4f-4e64-b484-97f668214307",
   "metadata": {},
   "source": [
    "Shutdown Ray runtime\n",
    "ray.shutdown()Notice that train_and_score_model is the same function as in the sequential example, except here, you add the @ray.remote decorator to specify that this function will be executed in a distributed manner.\n",
    "\n",
    "Implement function that runs parallel model training"
   ]
  },
  {
   "cell_type": "code",
   "execution_count": 14,
   "id": "d9c1a13a-ac1e-4918-a339-93684721c1e2",
   "metadata": {
    "tags": []
   },
   "outputs": [],
   "source": [
    "def run_parallel(n_models: int) -> list[tuple[int, float]]:\n",
    "    results_ref = [\n",
    "        train_and_score_model.remote(\n",
    "            train_set_ref=X_train_ref,\n",
    "            test_set_ref=X_test_ref,\n",
    "            train_labels_ref=y_train_ref,\n",
    "            test_labels_ref=y_test_ref,\n",
    "            n_estimators=8 + 4 * j,\n",
    "        )\n",
    "        for j in range(n_models)\n",
    "    ]\n",
    "    return ray.get(results_ref)"
   ]
  },
  {
   "cell_type": "markdown",
   "id": "3444883d-45f0-4c95-8b88-c76a44c7577d",
   "metadata": {},
   "source": [
    "Before, you defined run_sequential() to train and score NUM_MODELS. Working from the inside-out, modifying this into run_parallel() involves three steps:\n",
    "\n",
    "1. Append a .remote postfix to train_and_score_model.\n",
    "* Remember that you specified this function as a remote task in the previous cell. In Ray, you append this suffix to every remote call.\n",
    "2. Capture the resulting list of object references in results_ref.\n",
    "* Rather than waiting for the results, you immediately receive a list of references to results that are expected to be available in the future. This asychronous (non-blocking) call allows a program to continue executing other operations while the potentially time-consuming operations can be computed in the background.\n",
    "3. Access results with ray.get().\n",
    "* Once all models have been assigned to workers, call ray.get() on the list of object references results_ref to retrieve completed results. This is a synchronous (blocking) operation because it waits until all computation on objects complete.\n",
    "\n",
    "# For example,\n",
    "\n",
    "ray.get([ObjectRef, ObjectRef, ObjectRef, ...])\n",
    "returns list of (n_estimators, score) tuples."
   ]
  },
  {
   "cell_type": "markdown",
   "id": "ff86a9d1-7491-41b8-988f-290c6fc62186",
   "metadata": {},
   "source": [
    "### Run parallel model training"
   ]
  },
  {
   "cell_type": "code",
   "execution_count": 15,
   "id": "20a77591-a0cf-4cf5-8025-94639d362bf8",
   "metadata": {
    "tags": []
   },
   "outputs": [
    {
     "name": "stdout",
     "output_type": "stream",
     "text": [
      "\u001b[36m(train_and_score_model pid=10685)\u001b[0m n_estimators=8, mse=0.2983, took: 1.65 seconds\n",
      "\u001b[36m(train_and_score_model pid=10684)\u001b[0m n_estimators=28, mse=0.2686, took: 6.91 seconds\u001b[32m [repeated 5x across cluster] (Ray deduplicates logs by default. Set RAY_DEDUP_LOGS=0 to disable log deduplication, or see https://docs.ray.io/en/master/ray-observability/user-guides/configure-logging.html#log-deduplication for more options.)\u001b[0m\n",
      "\u001b[36m(train_and_score_model pid=10685)\u001b[0m n_estimators=40, mse=0.2635, took: 10.26 seconds\u001b[32m [repeated 3x across cluster]\u001b[0m\n",
      "\u001b[36m(train_and_score_model pid=10691)\u001b[0m n_estimators=52, mse=0.2609, took: 12.77 seconds\u001b[32m [repeated 3x across cluster]\u001b[0m\n",
      "\u001b[36m(train_and_score_model pid=10688)\u001b[0m n_estimators=68, mse=0.2616, took: 14.86 seconds\u001b[32m [repeated 2x across cluster]\u001b[0m\n",
      "\u001b[36m(train_and_score_model pid=10686)\u001b[0m n_estimators=76, mse=0.2614, took: 15.33 seconds\u001b[32m [repeated 4x across cluster]\u001b[0m\n",
      "\u001b[36m(train_and_score_model pid=10691)\u001b[0m n_estimators=84, mse=0.2601, took: 13.78 seconds\n"
     ]
    },
    {
     "name": "stdout",
     "output_type": "stream",
     "text": [
      "CPU times: user 102 ms, sys: 38.7 ms, total: 141 ms\n",
      "Wall time: 32.7 s\n"
     ]
    }
   ],
   "source": [
    "%%time\n",
    "\n",
    "mse_scores = run_parallel(n_models=NUM_MODELS)"
   ]
  },
  {
   "cell_type": "markdown",
   "id": "063f7283-d768-45fe-acea-98a3179ef516",
   "metadata": {},
   "source": [
    "### Notice 6x performance gain:\n",
    "\n",
    "Parallel: 10s\n",
    "Sequential: 1min (60s)\n",
    "(experiment on the M1 MacBook Pro)\n",
    "\n",
    "Analyze results"
   ]
  },
  {
   "cell_type": "code",
   "execution_count": 16,
   "id": "e45ca8f6-f75d-4c95-857e-22b35c370fdd",
   "metadata": {
    "tags": []
   },
   "outputs": [
    {
     "name": "stdout",
     "output_type": "stream",
     "text": [
      "Best model: mse=0.2601, n_estimators=84\n"
     ]
    }
   ],
   "source": [
    "best = min(mse_scores, key=itemgetter(1))\n",
    "print(f\"Best model: mse={best[1]:.4f}, n_estimators={best[0]}\")"
   ]
  },
  {
   "cell_type": "markdown",
   "id": "cf27bdce-59f6-4380-835b-916eed18180a",
   "metadata": {},
   "source": [
    "!pip install py-spy\n",
    "!sudo chown root:root `which py-spy`\n",
    "!sudo chmod u+s `which py-spy"
   ]
  },
  {
   "cell_type": "code",
   "execution_count": 17,
   "id": "b726c1f9-9a96-4b49-9d2f-209035d37e88",
   "metadata": {
    "tags": []
   },
   "outputs": [],
   "source": [
    "# Shutdown Ray runtime\n",
    "ray.shutdown()"
   ]
  }
 ],
 "metadata": {
  "kernelspec": {
   "display_name": ".venv",
   "language": "python",
   "name": "python3"
  },
  "language_info": {
   "codemirror_mode": {
    "name": "ipython",
    "version": 3
   },
   "file_extension": ".py",
   "mimetype": "text/x-python",
   "name": "python",
   "nbconvert_exporter": "python",
   "pygments_lexer": "ipython3",
   "version": "3.10.12"
  },
  "widgets": {
   "application/vnd.jupyter.widget-state+json": {
    "state": {
     "021879db78d94ea4962d3196ef23442d": {
      "model_module": "@jupyter-widgets/controls",
      "model_module_version": "2.0.0",
      "model_name": "HTMLModel",
      "state": {
       "layout": "IPY_MODEL_193cb112b8774127bb556998c0f06c2e",
       "style": "IPY_MODEL_e1803cff791e49ff8604b0b5ca3d9969",
       "value": "<div class=\"jp-RenderedHTMLCommon\" style=\"display: flex; flex-direction: row;\">\n  <svg viewBox=\"0 0 567 224\" fill=\"none\" xmlns=\"http://www.w3.org/2000/svg\" style=\"height: 3em;\">\n    <g clip-path=\"url(#clip0_4338_178347)\">\n        <path d=\"M341.29 165.561H355.29L330.13 129.051C345.63 123.991 354.21 112.051 354.21 94.2307C354.21 71.3707 338.72 58.1807 311.88 58.1807H271V165.561H283.27V131.661H311.8C314.25 131.661 316.71 131.501 319.01 131.351L341.25 165.561H341.29ZM283.29 119.851V70.0007H311.82C331.3 70.0007 342.34 78.2907 342.34 94.5507C342.34 111.271 331.34 119.861 311.82 119.861L283.29 119.851ZM451.4 138.411L463.4 165.561H476.74L428.74 58.1807H416L367.83 165.561H380.83L392.83 138.411H451.4ZM446.19 126.601H398L422 72.1407L446.24 126.601H446.19ZM526.11 128.741L566.91 58.1807H554.35L519.99 114.181L485.17 58.1807H472.44L514.01 129.181V165.541H526.13V128.741H526.11Z\" fill=\"var(--jp-ui-font-color0)\"/>\n        <path d=\"M82.35 104.44C84.0187 97.8827 87.8248 92.0678 93.1671 87.9146C98.5094 83.7614 105.083 81.5067 111.85 81.5067C118.617 81.5067 125.191 83.7614 130.533 87.9146C135.875 92.0678 139.681 97.8827 141.35 104.44H163.75C164.476 101.562 165.622 98.8057 167.15 96.2605L127.45 56.5605C121.071 60.3522 113.526 61.6823 106.235 60.3005C98.9443 58.9187 92.4094 54.9203 87.8602 49.0574C83.3109 43.1946 81.0609 35.8714 81.5332 28.4656C82.0056 21.0599 85.1679 14.0819 90.4252 8.8446C95.6824 3.60726 102.672 0.471508 110.08 0.0272655C117.487 -0.416977 124.802 1.86091 130.647 6.4324C136.493 11.0039 140.467 17.5539 141.821 24.8501C143.175 32.1463 141.816 39.6859 138 46.0505L177.69 85.7505C182.31 82.9877 187.58 81.4995 192.962 81.4375C198.345 81.3755 203.648 82.742 208.33 85.3976C213.012 88.0532 216.907 91.9029 219.616 96.5544C222.326 101.206 223.753 106.492 223.753 111.875C223.753 117.258 222.326 122.545 219.616 127.197C216.907 131.848 213.012 135.698 208.33 138.353C203.648 141.009 198.345 142.375 192.962 142.313C187.58 142.251 182.31 140.763 177.69 138L138 177.7C141.808 184.071 143.155 191.614 141.79 198.91C140.424 206.205 136.44 212.75 130.585 217.313C124.731 221.875 117.412 224.141 110.004 223.683C102.596 223.226 95.6103 220.077 90.3621 214.828C85.1139 209.58 81.9647 202.595 81.5072 195.187C81.0497 187.779 83.3154 180.459 87.878 174.605C92.4405 168.751 98.9853 164.766 106.281 163.401C113.576 162.035 121.119 163.383 127.49 167.19L167.19 127.49C165.664 124.941 164.518 122.182 163.79 119.3H141.39C139.721 125.858 135.915 131.673 130.573 135.826C125.231 139.98 118.657 142.234 111.89 142.234C105.123 142.234 98.5494 139.98 93.2071 135.826C87.8648 131.673 84.0587 125.858 82.39 119.3H60C58.1878 126.495 53.8086 132.78 47.6863 136.971C41.5641 141.163 34.1211 142.972 26.7579 142.059C19.3947 141.146 12.6191 137.574 7.70605 132.014C2.79302 126.454 0.0813599 119.29 0.0813599 111.87C0.0813599 104.451 2.79302 97.2871 7.70605 91.7272C12.6191 86.1673 19.3947 82.5947 26.7579 81.6817C34.1211 80.7686 41.5641 82.5781 47.6863 86.7696C53.8086 90.9611 58.1878 97.2456 60 104.44H82.35ZM100.86 204.32C103.407 206.868 106.759 208.453 110.345 208.806C113.93 209.159 117.527 208.258 120.522 206.256C123.517 204.254 125.725 201.276 126.771 197.828C127.816 194.38 127.633 190.677 126.253 187.349C124.874 184.021 122.383 181.274 119.205 179.577C116.027 177.88 112.359 177.337 108.826 178.042C105.293 178.746 102.113 180.654 99.8291 183.44C97.5451 186.226 96.2979 189.718 96.3 193.32C96.2985 195.364 96.7006 197.388 97.4831 199.275C98.2656 201.163 99.4132 202.877 100.86 204.32ZM204.32 122.88C206.868 120.333 208.453 116.981 208.806 113.396C209.159 109.811 208.258 106.214 206.256 103.219C204.254 100.223 201.275 98.0151 197.827 96.97C194.38 95.9249 190.676 96.1077 187.348 97.4873C184.02 98.8669 181.274 101.358 179.577 104.536C177.879 107.714 177.337 111.382 178.041 114.915C178.746 118.448 180.653 121.627 183.439 123.911C186.226 126.195 189.717 127.443 193.32 127.44C195.364 127.443 197.388 127.042 199.275 126.259C201.163 125.476 202.878 124.328 204.32 122.88ZM122.88 19.4205C120.333 16.8729 116.981 15.2876 113.395 14.9347C109.81 14.5817 106.213 15.483 103.218 17.4849C100.223 19.4868 98.0146 22.4654 96.9696 25.9131C95.9245 29.3608 96.1073 33.0642 97.4869 36.3922C98.8665 39.7202 101.358 42.4668 104.535 44.1639C107.713 45.861 111.381 46.4036 114.914 45.6992C118.447 44.9949 121.627 43.0871 123.911 40.301C126.195 37.515 127.442 34.0231 127.44 30.4205C127.44 28.3772 127.038 26.3539 126.255 24.4664C125.473 22.5788 124.326 20.8642 122.88 19.4205ZM19.42 100.86C16.8725 103.408 15.2872 106.76 14.9342 110.345C14.5813 113.93 15.4826 117.527 17.4844 120.522C19.4863 123.518 22.4649 125.726 25.9127 126.771C29.3604 127.816 33.0638 127.633 36.3918 126.254C39.7198 124.874 42.4664 122.383 44.1635 119.205C45.8606 116.027 46.4032 112.359 45.6988 108.826C44.9944 105.293 43.0866 102.114 40.3006 99.8296C37.5145 97.5455 34.0227 96.2983 30.42 96.3005C26.2938 96.3018 22.337 97.9421 19.42 100.86ZM100.86 100.86C98.3125 103.408 96.7272 106.76 96.3742 110.345C96.0213 113.93 96.9226 117.527 98.9244 120.522C100.926 123.518 103.905 125.726 107.353 126.771C110.8 127.816 114.504 127.633 117.832 126.254C121.16 124.874 123.906 122.383 125.604 119.205C127.301 116.027 127.843 112.359 127.139 108.826C126.434 105.293 124.527 102.114 121.741 99.8296C118.955 97.5455 115.463 96.2983 111.86 96.3005C109.817 96.299 107.793 96.701 105.905 97.4835C104.018 98.2661 102.303 99.4136 100.86 100.86Z\" fill=\"#00AEEF\"/>\n    </g>\n    <defs>\n        <clipPath id=\"clip0_4338_178347\">\n            <rect width=\"566.93\" height=\"223.75\" fill=\"white\"/>\n        </clipPath>\n    </defs>\n  </svg>\n</div>\n"
      }
     },
     "0be36de2dcd0409b9acfbe621f8d3d47": {
      "model_module": "@jupyter-widgets/controls",
      "model_module_version": "2.0.0",
      "model_name": "HTMLModel",
      "state": {
       "layout": "IPY_MODEL_cbd728a386754b77876323aeca5ae0a1",
       "style": "IPY_MODEL_227fcbad778542b8a0fdb8e6c03ae22d",
       "value": "<table class=\"jp-RenderedHTMLCommon\" style=\"border-collapse: collapse;color: var(--jp-ui-font-color1);font-size: var(--jp-ui-font-size1);\">\n    <tr>\n        <td style=\"text-align: left\"><b>Python version:</b></td>\n        <td style=\"text-align: left\"><b>3.9.7</b></td>\n    </tr>\n    <tr>\n        <td style=\"text-align: left\"><b>Ray version:</b></td>\n        <td style=\"text-align: left\"><b>2.6.0</b></td>\n    </tr>\n    <tr>\n    <td style=\"text-align: left\"><b>Dashboard:</b></td>\n    <td style=\"text-align: left\"><b><a href=\"http://127.0.0.1:8265\" target=\"_blank\">http://127.0.0.1:8265</a></b></td>\n</tr>\n\n</table>\n"
      }
     },
     "193cb112b8774127bb556998c0f06c2e": {
      "model_module": "@jupyter-widgets/base",
      "model_module_version": "2.0.0",
      "model_name": "LayoutModel",
      "state": {}
     },
     "227fcbad778542b8a0fdb8e6c03ae22d": {
      "model_module": "@jupyter-widgets/controls",
      "model_module_version": "2.0.0",
      "model_name": "HTMLStyleModel",
      "state": {
       "description_width": "",
       "font_size": null,
       "text_color": null
      }
     },
     "3d606ed5f0974fae89b3363d34c3e54d": {
      "model_module": "@jupyter-widgets/base",
      "model_module_version": "2.0.0",
      "model_name": "LayoutModel",
      "state": {
       "margin": "auto 0px 0px 0px"
      }
     },
     "6d9162c8bf4e4fda965f5b01baeb9229": {
      "model_module": "@jupyter-widgets/controls",
      "model_module_version": "2.0.0",
      "model_name": "VBoxModel",
      "state": {
       "children": [
        "IPY_MODEL_021879db78d94ea4962d3196ef23442d",
        "IPY_MODEL_9ada24ef966c40d5bed66945271268b9"
       ],
       "layout": "IPY_MODEL_f392917f60b54105a2188cfd6d69dcbc"
      }
     },
     "9ada24ef966c40d5bed66945271268b9": {
      "model_module": "@jupyter-widgets/controls",
      "model_module_version": "2.0.0",
      "model_name": "ButtonModel",
      "state": {
       "description": "Disconnect",
       "layout": "IPY_MODEL_3d606ed5f0974fae89b3363d34c3e54d",
       "style": "IPY_MODEL_c402b2d071994ac4b7aa5b0192aeaaca",
       "tooltip": "Disconnect from the Ray cluster"
      }
     },
     "c402b2d071994ac4b7aa5b0192aeaaca": {
      "model_module": "@jupyter-widgets/controls",
      "model_module_version": "2.0.0",
      "model_name": "ButtonStyleModel",
      "state": {
       "font_family": null,
       "font_size": null,
       "font_style": null,
       "font_variant": null,
       "font_weight": null,
       "text_color": null,
       "text_decoration": null
      }
     },
     "cbd728a386754b77876323aeca5ae0a1": {
      "model_module": "@jupyter-widgets/base",
      "model_module_version": "2.0.0",
      "model_name": "LayoutModel",
      "state": {}
     },
     "d30a096b83f84776ad745598db0cd087": {
      "model_module": "@jupyter-widgets/base",
      "model_module_version": "2.0.0",
      "model_name": "LayoutModel",
      "state": {
       "width": "100%"
      }
     },
     "e1803cff791e49ff8604b0b5ca3d9969": {
      "model_module": "@jupyter-widgets/controls",
      "model_module_version": "2.0.0",
      "model_name": "HTMLStyleModel",
      "state": {
       "description_width": "",
       "font_size": null,
       "text_color": null
      }
     },
     "f392917f60b54105a2188cfd6d69dcbc": {
      "model_module": "@jupyter-widgets/base",
      "model_module_version": "2.0.0",
      "model_name": "LayoutModel",
      "state": {}
     },
     "fb380a49b85340f4bc1fac982f6f81c2": {
      "model_module": "@jupyter-widgets/controls",
      "model_module_version": "2.0.0",
      "model_name": "HBoxModel",
      "state": {
       "children": [
        "IPY_MODEL_6d9162c8bf4e4fda965f5b01baeb9229",
        "IPY_MODEL_0be36de2dcd0409b9acfbe621f8d3d47"
       ],
       "layout": "IPY_MODEL_d30a096b83f84776ad745598db0cd087"
      }
     }
    },
    "version_major": 2,
    "version_minor": 0
   }
  }
 },
 "nbformat": 4,
 "nbformat_minor": 5
}
