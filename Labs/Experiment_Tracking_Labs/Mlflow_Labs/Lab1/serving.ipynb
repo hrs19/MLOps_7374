{
 "cells": [
  {
   "cell_type": "markdown",
   "id": "b9035a5d-7a6b-4b2f-b027-375dbae8c40e",
   "metadata": {
    "tags": []
   },
   "source": [
    "### Step 1: Install Dependencies\n",
    "First, make sure you have MLflow and scikit-learn installed. You can install them using pip:"
   ]
  },
  {
   "cell_type": "code",
   "execution_count": 1,
   "id": "71d71aac-6707-4361-9d2c-6a7b272b3213",
   "metadata": {},
   "outputs": [],
   "source": [
    "#!pip3 install mlflow scikit-learn"
   ]
  },
  {
   "cell_type": "markdown",
   "id": "7f16f265-bc4a-486d-9257-85fab556e4f1",
   "metadata": {},
   "source": [
    "### Step 2: Import Libraries\n",
    "In your Python script, import the necessary libraries:"
   ]
  },
  {
   "cell_type": "code",
   "execution_count": 1,
   "id": "6fcbde98-775d-477b-a2cd-a4d932c87032",
   "metadata": {},
   "outputs": [
    {
     "name": "stderr",
     "output_type": "stream",
     "text": [
      "2025/01/21 12:40:41 INFO mlflow.tracking.fluent: Autologging successfully enabled for sklearn.\n",
      "2025/01/21 12:40:41 WARNING mlflow.spark: With Pyspark >= 3.2, PYSPARK_PIN_THREAD environment variable must be set to false for Spark datasource autologging to work.\n",
      "2025/01/21 12:40:41 INFO mlflow.tracking.fluent: Autologging successfully enabled for pyspark.\n"
     ]
    }
   ],
   "source": [
    "import mlflow\n",
    "import mlflow.sklearn\n",
    "from sklearn.datasets import load_diabetes\n",
    "from sklearn.model_selection import train_test_split\n",
    "from sklearn.linear_model import LinearRegression\n",
    "from urllib.parse import urlparse\n",
    "\n",
    "import numpy as np\n",
    "import pandas as pd\n",
    "from sklearn.linear_model import ElasticNet\n",
    "from sklearn.metrics import mean_absolute_error, mean_squared_error, r2_score\n",
    "from sklearn.model_selection import train_test_split\n",
    "\n",
    "import mlflow\n",
    "import mlflow.sklearn\n",
    "from mlflow.models import infer_signature\n",
    "mlflow.autolog() \n"
   ]
  },
  {
   "cell_type": "markdown",
   "id": "fc34b709-0a4d-461f-ad7f-dfd51e207c0f",
   "metadata": {},
   "source": [
    "### Step 3: Load and Prepare Data\n",
    "Load a dataset from scikit-learn, split it into training and testing sets, and perform any necessary data preprocessing:"
   ]
  },
  {
   "cell_type": "code",
   "execution_count": 2,
   "id": "de1041eb-81df-4e8b-b195-c8162e299f3a",
   "metadata": {},
   "outputs": [],
   "source": [
    "data = load_diabetes()\n",
    "X = data.data\n",
    "y = data.target\n",
    "\n",
    "X_train, X_test, y_train, y_test = train_test_split(X, y, test_size=0.2, random_state=42)"
   ]
  },
  {
   "cell_type": "markdown",
   "id": "307bd01c-bb94-472d-acbd-14476608f43c",
   "metadata": {},
   "source": [
    "### Step 4: Train and Log the Model\n",
    "Train a simple linear regression model using scikit-learn and log it using MLflow:"
   ]
  },
  {
   "cell_type": "code",
   "execution_count": 3,
   "id": "66310822-7bd4-407f-ae39-d8918032e431",
   "metadata": {},
   "outputs": [],
   "source": [
    "with mlflow.start_run():\n",
    "    # Create and train a linear regression model\n",
    "    lr = LinearRegression()\n",
    "    lr.fit(X_train, y_train)\n",
    "\n",
    "    predictions = lr.predict(X_train)\n",
    "    signature = infer_signature(X_train, predictions)\n",
    "\n",
    "    tracking_url_type_store = urlparse(mlflow.get_tracking_uri()).scheme\n",
    "\n",
    "    # Model registry does not work with file store\n",
    "    if tracking_url_type_store != \"file\":\n",
    "        # Register the model\n",
    "        # There are other ways to use the Model Registry, which depends on the use case,\n",
    "        # please refer to the doc for more information:\n",
    "        # https://mlflow.org/docs/latest/model-registry.html#api-workflow\n",
    "        mlflow.sklearn.log_model(\n",
    "            lr, \"model\", registered_model_name=\"RandomForest\", signature=signature\n",
    "        )\n",
    "    else:\n",
    "        mlflow.sklearn.log_model(lr, \"model\", signature=signature)"
   ]
  },
  {
   "cell_type": "markdown",
   "id": "f74e4ab1-1738-4730-9e35-1f694fdcbd0c",
   "metadata": {},
   "source": [
    "This code initializes an MLflow run, trains the model, and logs it with the name \"model.\""
   ]
  },
  {
   "cell_type": "markdown",
   "id": "ded35bdd-3f3a-4f74-a5f6-464fd075a93a",
   "metadata": {},
   "source": [
    "### Step 5: Save the MLflow Artifacts\n",
    "By default, MLflow logs the model into an artifact store. You can specify the artifact location in your MLflow server configuration or use the default location. You can also set the environment variable MLFLOW_TRACKING_URI to point to your MLflow server."
   ]
  },
  {
   "cell_type": "markdown",
   "id": "42d6225d-22cf-4357-91ba-be31f85a1de9",
   "metadata": {},
   "source": [
    "### Step 6: Serve the Model\n",
    "To serve the model using MLflow, you can use the mlflow models serve command. First, make sure that MLflow is running as a server (e.g., mlflow server).\n",
    "\n",
    "Then, you can start serving your model:"
   ]
  },
  {
   "cell_type": "markdown",
   "id": "1886de3c-cb96-42ec-9adb-77e9ad8615e2",
   "metadata": {},
   "source": [
    "### In case of Error"
   ]
  },
  {
   "cell_type": "code",
   "execution_count": 4,
   "id": "d8d1fc4c-976b-4cf9-8fe7-9110739de0ea",
   "metadata": {},
   "outputs": [],
   "source": [
    "# https://github.com/pyenv/pyenv/wiki#suggested-build-environment"
   ]
  },
  {
   "cell_type": "code",
   "execution_count": 5,
   "id": "64bbdb26-27a7-4247-9d10-8e7d9f114dae",
   "metadata": {},
   "outputs": [],
   "source": [
    "# !rm -rf '/home/ramin/.pyenv'"
   ]
  },
  {
   "cell_type": "code",
   "execution_count": 6,
   "id": "910d7e81-336f-4e36-9622-75e84fe5edfd",
   "metadata": {},
   "outputs": [],
   "source": [
    "# !curl https://pyenv.run | bash\n",
    "# !python -m  pip install virtualenv\n",
    "# !PATH=\"$HOME/.pyenv/bin:$PATH\"\n",
    "# !export PYENV_ROOT=\"$HOME/.pyenv\""
   ]
  },
  {
   "cell_type": "markdown",
   "id": "4c512afc-9065-420c-b020-3a2b67397286",
   "metadata": {},
   "source": [
    "### In-case of dependeny error"
   ]
  },
  {
   "cell_type": "code",
   "execution_count": null,
   "id": "fe3d4386-6672-416d-a039-72176c64c728",
   "metadata": {},
   "outputs": [],
   "source": [
    "# mlflow.pyfunc.get_model_dependencies('mlruns/0/e6f6f958a20c407f9d485ba5fb24f6c2/artifacts/model')"
   ]
  },
  {
   "cell_type": "code",
   "execution_count": null,
   "id": "efbfa79a-7faf-40f6-adf0-137996637354",
   "metadata": {
    "scrolled": true,
    "tags": []
   },
   "outputs": [],
   "source": [
    "# !pip3 install -r mlruns/0/aea73ab36d544af29927cf26199b8888/artifacts/model/requirements.txt"
   ]
  },
  {
   "cell_type": "markdown",
   "id": "148adc83-a920-4d11-8e74-8dfd4c900641",
   "metadata": {},
   "source": [
    "### To run on a severate bash screen within the same venv"
   ]
  },
  {
   "cell_type": "code",
   "execution_count": null,
   "id": "5f8995c1-a3a6-469e-9302-712cf142bd54",
   "metadata": {
    "scrolled": true,
    "tags": []
   },
   "outputs": [],
   "source": [
    "!mlflow models serve --env-manager=local -m mlruns/0/1b22a8a9589a4adeaff189de8a358580/artifacts/model -h 127.0.0.1 -p 5001"
   ]
  },
  {
   "cell_type": "markdown",
   "id": "1e098e63-92fc-4e70-aadd-8780ba9cf18e",
   "metadata": {},
   "source": [
    "### Step 7: Make Predictions\n",
    "You can make predictions by sending HTTP POST requests to the model server. Here's an example using Python's requests library:"
   ]
  },
  {
   "cell_type": "code",
   "execution_count": 5,
   "id": "2319aa69-4b0c-4c18-b8d0-358fff9990a0",
   "metadata": {},
   "outputs": [
    {
     "data": {
      "text/plain": [
       "(89, 10)"
      ]
     },
     "execution_count": 5,
     "metadata": {},
     "output_type": "execute_result"
    }
   ],
   "source": [
    "X_test.shape"
   ]
  },
  {
   "cell_type": "code",
   "execution_count": 6,
   "id": "96f162c7-f96e-48dd-b5b6-932dbaed9b81",
   "metadata": {
    "scrolled": true,
    "tags": []
   },
   "outputs": [
    {
     "name": "stdout",
     "output_type": "stream",
     "text": [
      "{'predictions': [139.54755840379607, 179.51720835342778, 134.03875571890114, 291.4170292522082, 123.7896587223961, 92.17234650105041, 258.23238898921295, 181.33732057060732, 90.22411310941467, 108.63375858007933, 94.13865743638853, 168.4348635797548, 53.50478879609554, 206.6308165929643, 100.12925868961605, 130.6665708505271, 219.53071499182573, 250.78032340333357, 196.36883460186397, 218.57511814821788, 207.35050181974748, 88.48340941420321, 70.43285917378927, 188.95914235039012, 154.8868161968979, 159.36170121791906, 188.31263362697564, 180.39094032857133, 47.990465608700134, 108.97453871427219, 174.7789763289737, 86.36406655640144, 132.95761214676355, 184.53819482628649, 173.83220911339012, 190.35858491915616, 124.41561760139221, 119.65110656071295, 147.95168682418492, 59.054052414728076, 71.6233185615158, 107.68284703885513, 165.45365458042076, 155.00975931051346, 171.0479909563818, 61.457613561017894, 71.6667258072822, 114.96732205941937, 51.57975523042386, 167.5759952801152, 152.52291954830008, 62.955685152252656, 103.49741722264707, 109.20751488540832, 175.6411842576668, 154.60296241811298, 94.41704365715884, 210.7420914473924, 120.25662049594233, 77.61585398627122, 187.93203995287394, 206.49337473788216, 140.63167075673576, 105.59678022893411, 130.7043253599967, 202.1853453667185, 171.13039500812147, 164.9142304726883, 124.7247256878073, 144.81030894117262, 181.99635451907645, 199.41369641711745, 234.21436187590191, 145.95665512205625, 79.86703276235608, 157.36941274964428, 192.74412541087818, 208.89814031629624, 158.58722554944777, 206.0219585537294, 107.4797167461347, 140.93598906417049, 54.82129331926055, 55.925731947119615, 115.01180017858908, 78.9558418752067, 81.56087284620625, 54.379972556448735, 166.2543518032686]}\n"
     ]
    }
   ],
   "source": [
    "import requests\n",
    "import json\n",
    "\n",
    "url = 'http://127.0.0.1:5001/invocations'\n",
    "\n",
    "data = {\n",
    "    \"columns\": data['feature_names'],\n",
    "    \"instances\": X_test.tolist()\n",
    "}\n",
    "\n",
    "response = requests.post(url, json=data)\n",
    "predictions = response.json()\n",
    "\n",
    "print(predictions)"
   ]
  },
  {
   "cell_type": "markdown",
   "id": "fe9376ff-b1fd-4b65-ad59-f6c302d06d95",
   "metadata": {},
   "source": [
    "The url variable, in the context of the code provided, represents the Uniform Resource Locator (URL) that is used to specify the location or address of a web resource. In this case, it points to a specific endpoint on a local web server:\n",
    "\n",
    "* http:// indicates the protocol being used, which is Hypertext Transfer Protocol (HTTP). HTTP is the foundation of data communication on the World Wide Web.\n",
    "\n",
    "* localhost is a special hostname that typically refers to the current device or computer where the code is running. It is often used to access services running on the same machine.\n",
    "\n",
    "* 5000 is the port number. Ports are used to differentiate between different services or processes running on the same machine. Port 5000 is a commonly used port for running web servers locally.\n",
    "\n",
    "* /invocations is the path or endpoint on the web server. In the context of machine learning deployment, this path often represents an API endpoint for making predictions using a deployed machine learning model. In this specific case, it's likely that the web server running on localhost:5000 has an endpoint called /invocations that allows you to send data to the deployed model and receive predictions in response.\n",
    "\n",
    "So, the url variable is essentially storing the URL of the API endpoint where you can send a POST request with data to obtain predictions from a locally deployed machine learning model."
   ]
  },
  {
   "cell_type": "code",
   "execution_count": null,
   "id": "243ec584-d382-4fee-90fa-b69b4b76e3b6",
   "metadata": {},
   "outputs": [],
   "source": []
  }
 ],
 "metadata": {
  "kernelspec": {
   "display_name": ".venv",
   "language": "python",
   "name": "python3"
  },
  "language_info": {
   "codemirror_mode": {
    "name": "ipython",
    "version": 3
   },
   "file_extension": ".py",
   "mimetype": "text/x-python",
   "name": "python",
   "nbconvert_exporter": "python",
   "pygments_lexer": "ipython3",
   "version": "3.10.12"
  }
 },
 "nbformat": 4,
 "nbformat_minor": 5
}
